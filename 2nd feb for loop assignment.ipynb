{
 "cells": [
  {
   "cell_type": "markdown",
   "id": "65415e5c-7b33-49f4-83a1-f44c9ffbc768",
   "metadata": {},
   "source": [
    "Ques 1. Explain with an example each when to use a for loop and a while loop.\n",
    "\n",
    "In python 'for' loop is used for iterating over a sequence (that is either a list,tuple,a dictionary,a set, a string).\n",
    "\n",
    "Example: Printing each fruit item from the fruit list"
   ]
  },
  {
   "cell_type": "code",
   "execution_count": 4,
   "id": "aa02bfc5-0cbc-4bd3-9d6c-b210d505812e",
   "metadata": {},
   "outputs": [
    {
     "name": "stdout",
     "output_type": "stream",
     "text": [
      "apple\n",
      "banana\n",
      "cherry\n"
     ]
    }
   ],
   "source": [
    "fruits = [\"apple\", \"banana\", \"cherry\"]\n",
    "for x in fruits:\n",
    "  print(x)"
   ]
  },
  {
   "cell_type": "markdown",
   "id": "fd9833cf-7469-4a8b-81c2-c18fcbf17bb3",
   "metadata": {},
   "source": [
    "In python While loop is used to execute the set of statements as long as a condition is true.\n",
    "\n",
    "Example: printing numbers as required"
   ]
  },
  {
   "cell_type": "code",
   "execution_count": 5,
   "id": "8be5dfae-4e62-4224-a43b-9b055dda25f0",
   "metadata": {},
   "outputs": [
    {
     "name": "stdin",
     "output_type": "stream",
     "text": [
      "enter the number: 10\n"
     ]
    },
    {
     "name": "stdout",
     "output_type": "stream",
     "text": [
      "1\n",
      "2\n",
      "3\n",
      "4\n",
      "5\n",
      "6\n",
      "7\n",
      "8\n",
      "9\n",
      "10\n"
     ]
    }
   ],
   "source": [
    "a=int(input(\"enter the number:\"))\n",
    "b=1\n",
    "while b<=a:\n",
    "    print(b)\n",
    "    b+=1"
   ]
  },
  {
   "cell_type": "markdown",
   "id": "9e950649-dd23-4da6-a36a-3c11441be529",
   "metadata": {},
   "source": [
    "Ques 2. Write a python program to print the sum and product of the first 10 natural numbers using forand while loop.\n",
    "\n",
    "Using for loop"
   ]
  },
  {
   "cell_type": "code",
   "execution_count": 7,
   "id": "33d3e83b-f6aa-4254-8f30-25c1a845b02c",
   "metadata": {},
   "outputs": [
    {
     "name": "stdout",
     "output_type": "stream",
     "text": [
      "sum of first 10 natural numbers is: 55\n",
      "product of first 10 natural numbers is: 3628800\n"
     ]
    }
   ],
   "source": [
    "sum=0\n",
    "product=1\n",
    "for i in range(1,11):\n",
    "    sum+=i\n",
    "    product*=i\n",
    "print(\"sum of first 10 natural numbers is:\",sum)\n",
    "print(\"product of first 10 natural numbers is:\",product)"
   ]
  },
  {
   "cell_type": "markdown",
   "id": "da15689a-103d-4d2b-903a-5ba6015cf46b",
   "metadata": {},
   "source": [
    "Writing a python program to print the print the sum and product of first 10 natural numbers using while loop"
   ]
  },
  {
   "cell_type": "code",
   "execution_count": 9,
   "id": "0db5a556-46cb-4a92-ade5-3ad7d78a9452",
   "metadata": {},
   "outputs": [
    {
     "name": "stdout",
     "output_type": "stream",
     "text": [
      "sum of first 10 natural numbers: 55\n",
      "product of first 10 natural numbers: 3628800\n"
     ]
    }
   ],
   "source": [
    "sum=0\n",
    "product=1\n",
    "i=1\n",
    "while i<=10:\n",
    "    sum+=i\n",
    "    product*=i\n",
    "    i+=1\n",
    "    \n",
    "print(\"sum of first 10 natural numbers:\",sum)\n",
    "print(\"product of first 10 natural numbers:\",product)"
   ]
  },
  {
   "cell_type": "markdown",
   "id": "e99e9101-b95c-4383-a5cb-3f1217174c71",
   "metadata": {},
   "source": [
    "Ques 3.Create a python program to compute the electricity bill for a household. The per unit charges in rupees are as follows: For the first 100 units the user will be charged Rs 4.5 per unit,for the next 100 units ,the user will be charges Rs 6 per unit and for the next 100 units , the user will be charges Rs 10 per unit. After 300 units and above , user will be charges Rs 20 per unit"
   ]
  },
  {
   "cell_type": "code",
   "execution_count": 17,
   "id": "f7198758-5036-493b-b903-3e863717e6e5",
   "metadata": {},
   "outputs": [
    {
     "name": "stdin",
     "output_type": "stream",
     "text": [
      "enter the units: 310\n"
     ]
    },
    {
     "name": "stdout",
     "output_type": "stream",
     "text": [
      "2250.0\n"
     ]
    }
   ],
   "source": [
    "a=int(input(\"enter the units:\"))\n",
    "bill=0\n",
    "if a>0:\n",
    "    add=a*4.5\n",
    "    bill+=add\n",
    "    \n",
    "    if a>100:\n",
    "        rem=a-100\n",
    "        add=1.5*rem\n",
    "        bill+=add\n",
    "        \n",
    "        if a>200:\n",
    "            rem=a-200\n",
    "            add=4*rem\n",
    "            bill+=add\n",
    "            \n",
    "            if a>300:\n",
    "                rem=a-300\n",
    "                add=10*rem\n",
    "                bill+=add\n",
    "print(bill)"
   ]
  },
  {
   "cell_type": "markdown",
   "id": "c6c22757-b03c-4239-8875-ddb44cd5190e",
   "metadata": {},
   "source": [
    "Ques 4. Q4. Create a list of numbers from 1 to 100. Use for loop and while loop to calculate the cube of each\n",
    "number and if the cube of that number is divisible by 4 or 5 then append that number in a list and print\n",
    "that list.\n",
    "\n",
    "Using for loop:"
   ]
  },
  {
   "cell_type": "code",
   "execution_count": 27,
   "id": "b25a73a2-1377-4ef0-918c-522ff7ce1241",
   "metadata": {},
   "outputs": [
    {
     "name": "stdout",
     "output_type": "stream",
     "text": [
      "[8, 64, 125, 216, 512, 1000, 1728, 2744, 3375, 4096, 5832, 8000, 10648, 13824, 15625, 17576, 21952, 27000, 32768, 39304, 42875, 46656, 54872, 64000, 74088, 85184, 91125, 97336, 110592, 125000, 140608, 157464, 166375, 175616, 195112, 216000, 238328, 262144, 274625, 287496, 314432, 343000, 373248, 405224, 421875, 438976, 474552, 512000, 551368, 592704, 614125, 636056, 681472, 729000, 778688, 830584, 857375, 884736, 941192, 1000000]\n"
     ]
    }
   ],
   "source": [
    "cubes=list()\n",
    "for i in range(1,101):\n",
    "    cube=i*i*i\n",
    "    if cube%4 == 0 or cube%5==0:\n",
    "        cubes.append(cube)\n",
    "        \n",
    "print(cubes)"
   ]
  },
  {
   "cell_type": "markdown",
   "id": "055d4858-122b-4321-820e-7e9bb969ade4",
   "metadata": {},
   "source": [
    "Using while loop"
   ]
  },
  {
   "cell_type": "code",
   "execution_count": 26,
   "id": "63e957f2-3f7c-4e87-91b6-3f39b4b0e8ab",
   "metadata": {},
   "outputs": [
    {
     "name": "stdout",
     "output_type": "stream",
     "text": [
      "[8, 64, 125, 216, 512, 1000, 1728, 2744, 3375, 4096, 5832, 8000, 10648, 13824, 15625, 17576, 21952, 27000, 32768, 39304, 42875, 46656, 54872, 64000, 74088, 85184, 91125, 97336, 110592, 125000, 140608, 157464, 166375, 175616, 195112, 216000, 238328, 262144, 274625, 287496, 314432, 343000, 373248, 405224, 421875, 438976, 474552, 512000, 551368, 592704, 614125, 636056, 681472, 729000, 778688, 830584, 857375, 884736, 941192, 1000000]\n"
     ]
    }
   ],
   "source": [
    "cubes=list()\n",
    "a=1\n",
    "while a<=100:\n",
    "    cube=a*a*a\n",
    "    a+=1\n",
    "    if cube%4 == 0 or cube%5 == 0:\n",
    "        cubes.append(cube)\n",
    "        \n",
    "print(cubes)"
   ]
  },
  {
   "cell_type": "markdown",
   "id": "618ce51c-8251-49f6-8419-e683b8667d86",
   "metadata": {},
   "source": [
    "Ques 5. Write a program to filter count vowels in the below-given string.\n",
    "string = \"I want to become a data scientist\""
   ]
  },
  {
   "cell_type": "code",
   "execution_count": 40,
   "id": "03538db3-642f-49bb-bd00-9078dacf73d8",
   "metadata": {},
   "outputs": [
    {
     "name": "stdout",
     "output_type": "stream",
     "text": [
      "no of vowels in string: 12\n"
     ]
    }
   ],
   "source": [
    "vowels=\"aeiouAEIOU\"\n",
    "vow=list()\n",
    "no=0\n",
    "string = \"I want to become a data scientist\"\n",
    "for i in string:\n",
    "    if i in vowels:\n",
    "        no+=1\n",
    "print(\"no of vowels in string:\",no)\n",
    "        "
   ]
  }
 ],
 "metadata": {
  "kernelspec": {
   "display_name": "Python 3 (ipykernel)",
   "language": "python",
   "name": "python3"
  },
  "language_info": {
   "codemirror_mode": {
    "name": "ipython",
    "version": 3
   },
   "file_extension": ".py",
   "mimetype": "text/x-python",
   "name": "python",
   "nbconvert_exporter": "python",
   "pygments_lexer": "ipython3",
   "version": "3.10.6"
  }
 },
 "nbformat": 4,
 "nbformat_minor": 5
}
