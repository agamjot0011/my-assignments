{
 "cells": [
  {
   "cell_type": "markdown",
   "id": "c9d7eb17-5fef-49e1-acd5-048235e91f8b",
   "metadata": {},
   "source": [
    "Ques 1. Explain Class and Object with respect to Object-Oriented Programming. Give a suitable example."
   ]
  },
  {
   "cell_type": "markdown",
   "id": "fdac77f9-72ff-4d85-803c-dfd337043b06",
   "metadata": {},
   "source": [
    "In Object-Oriented Programming (OOP), a class is a blueprint or a template that defines the structure and behavior of objects. An object, on the other hand, is an instance of a class – it is a concrete entity that can store data (attributes) and perform actions (methods) as defined by its class.\n",
    "\n",
    "Let's use an example to illustrate the concepts of a class and an object:"
   ]
  },
  {
   "cell_type": "code",
   "execution_count": 1,
   "id": "af9ebfcd-49c8-4988-8ccc-dcafb08d6caf",
   "metadata": {},
   "outputs": [
    {
     "name": "stdout",
     "output_type": "stream",
     "text": [
      "Buddy is 3 years old.\n",
      "Max is 5 years old.\n",
      "Buddy is barking!\n",
      "Max is barking!\n"
     ]
    }
   ],
   "source": [
    "class Dog:\n",
    "    def __init__(self, name, age):\n",
    "        self.name = name\n",
    "        self.age = age\n",
    "\n",
    "    def bark(self):\n",
    "        print(f\"{self.name} is barking!\")\n",
    "\n",
    "# Create an object (instance) of the Dog class\n",
    "dog1 = Dog(\"Buddy\", 3)\n",
    "dog2 = Dog(\"Max\", 5)\n",
    "\n",
    "# Access object attributes\n",
    "print(f\"{dog1.name} is {dog1.age} years old.\")\n",
    "print(f\"{dog2.name} is {dog2.age} years old.\")\n",
    "\n",
    "# Call object methods\n",
    "dog1.bark()\n",
    "dog2.bark()\n"
   ]
  },
  {
   "cell_type": "markdown",
   "id": "a0e6611a-0042-4510-aeaa-71be9eddd639",
   "metadata": {},
   "source": [
    "Ques 2. Name the four pillars of OOPs."
   ]
  },
  {
   "cell_type": "markdown",
   "id": "f51966e3-e9d1-4c4d-900a-6ae0971b3901",
   "metadata": {},
   "source": [
    "Certainly! Here's a simple explanation of the four pillars of Object-Oriented Programming (OOP):\n",
    "\n",
    "Encapsulation: Think of encapsulation like a gift box. It keeps things together and hides the details. In OOP, you group data (like a person's age) and functions (like calculating their age) that work on that data inside a \"box\" called a class. It helps keep things organized and prevents others from messing with the inside of the box directly.\n",
    "\n",
    "Abstraction: Abstraction is like using a TV remote without knowing how it works inside. In OOP, you create classes that represent real-world things, like a car or a dog. You only show the important parts (attributes and methods) that you need to use, and hide the complex details. It makes working with objects easier.\n",
    "\n",
    "Inheritance: Inheritance is like passing down traits from parents to children. In OOP, you can create a new class that \"inherits\" attributes and methods from an existing class. This saves time because you don't have to write everything from scratch. The new class can also add or change things if needed.\n",
    "\n",
    "Polymorphism: Polymorphism is like using different keys to open the same lock. In OOP, different classes can have methods with the same name, but they might work differently. You can use these methods without worrying about which class you're using. It makes code more flexible and adaptable."
   ]
  },
  {
   "cell_type": "markdown",
   "id": "b4846a17-74c8-4859-90de-aaef8e905dd3",
   "metadata": {},
   "source": [
    "Ques 3. Explain why the __init__() function is used. Give a suitable example."
   ]
  },
  {
   "cell_type": "markdown",
   "id": "42f1b78c-29a0-4d79-a40e-a86a0e89f4d1",
   "metadata": {},
   "source": [
    "The __init__() function is a special method in Python that is automatically called when you create an object (an instance) of a class. It is used to initialize the attributes of the object and perform any necessary setup or configuration. In other words, __init__() is the constructor method of a class, responsible for setting up the initial state of the object.\n",
    "\n",
    "Here's an example to illustrate the use of the __init__() function:"
   ]
  },
  {
   "cell_type": "code",
   "execution_count": 2,
   "id": "993d873b-8766-42a4-9767-6e490c8d21a2",
   "metadata": {},
   "outputs": [
    {
     "name": "stdout",
     "output_type": "stream",
     "text": [
      "Hi, I'm Alice and I'm 25 years old.\n",
      "Hi, I'm Bob and I'm 30 years old.\n"
     ]
    }
   ],
   "source": [
    "class Person:\n",
    "    def __init__(self, name, age):\n",
    "        self.name = name\n",
    "        self.age = age\n",
    "\n",
    "    def introduce(self):\n",
    "        print(f\"Hi, I'm {self.name} and I'm {self.age} years old.\")\n",
    "\n",
    "# Create objects (instances) of the Person class\n",
    "person1 = Person(\"Alice\", 25)\n",
    "person2 = Person(\"Bob\", 30)\n",
    "\n",
    "# Call the introduce method on the objects\n",
    "person1.introduce()\n",
    "person2.introduce()\n"
   ]
  },
  {
   "cell_type": "markdown",
   "id": "05c5f90a-173f-415e-8bb8-1a2df7d0b7b6",
   "metadata": {},
   "source": [
    "Ques 4. Why self is used in OOPs?"
   ]
  },
  {
   "cell_type": "markdown",
   "id": "7220110b-fb67-4a81-b067-87cc2171b3db",
   "metadata": {},
   "source": [
    "In Object-Oriented Programming (OOP), self is a special keyword that is used as a reference to the instance of a class. It is used to access and manipulate the attributes and methods of an object within its own scope"
   ]
  },
  {
   "cell_type": "markdown",
   "id": "11218fdf-17b6-45d0-9839-764687aadb2e",
   "metadata": {},
   "source": [
    "Ques 5.What is inheritance? Give an example for each type of inheritance."
   ]
  },
  {
   "cell_type": "markdown",
   "id": "54a6231b-459c-4dc9-b8ab-ae53ba41214f",
   "metadata": {},
   "source": [
    "inheritance is a fundamental concept in Object-Oriented Programming (OOP) that allows a new class (called a subclass or derived class) to inherit attributes and methods from an existing class (called a superclass or base class). Inheritance promotes code reuse, modularity, and the creation of a hierarchical relationship between classes.types of inheritance with examples:"
   ]
  },
  {
   "cell_type": "markdown",
   "id": "c926b2f0-3d3d-446b-9e6e-22b360179866",
   "metadata": {},
   "source": [
    "single inheritance:"
   ]
  },
  {
   "cell_type": "code",
   "execution_count": 3,
   "id": "3b85520f-9642-4941-b3a6-f9a9e578df6b",
   "metadata": {},
   "outputs": [
    {
     "name": "stdout",
     "output_type": "stream",
     "text": [
      "Woof!\n"
     ]
    }
   ],
   "source": [
    "class Animal:\n",
    "    def speak(self):\n",
    "        pass\n",
    "\n",
    "class Dog(Animal):\n",
    "    def speak(self):\n",
    "        return \"Woof!\"\n",
    "\n",
    "dog = Dog()\n",
    "print(dog.speak())  # Output: Woof!\n"
   ]
  },
  {
   "cell_type": "markdown",
   "id": "ef3b0f18-f591-45b9-8cb8-86240ec59f3b",
   "metadata": {},
   "source": [
    "multiple inheritance:"
   ]
  },
  {
   "cell_type": "code",
   "execution_count": 4,
   "id": "278e0b04-f09c-437a-8eb4-255adf9ae2fe",
   "metadata": {},
   "outputs": [
    {
     "name": "stdout",
     "output_type": "stream",
     "text": [
      "I am your mother.\n"
     ]
    }
   ],
   "source": [
    "class Mother:\n",
    "    def say(self):\n",
    "        return \"I am your mother.\"\n",
    "\n",
    "class Father:\n",
    "    def say(self):\n",
    "        return \"I am your father.\"\n",
    "\n",
    "class Child(Mother, Father):\n",
    "    pass\n",
    "\n",
    "child = Child()\n",
    "print(child.say())  # Output: I am your mother. (Because Mother is inherited first)\n"
   ]
  },
  {
   "cell_type": "markdown",
   "id": "eb13288e-a721-4b0e-9f6d-fd913303e3f2",
   "metadata": {},
   "source": [
    "multilevel inheritance"
   ]
  },
  {
   "cell_type": "code",
   "execution_count": 5,
   "id": "1948ad12-6cc8-4be0-835e-419092406ed1",
   "metadata": {},
   "outputs": [
    {
     "name": "stdout",
     "output_type": "stream",
     "text": [
      "Method C\n",
      "Method B\n",
      "Method A\n"
     ]
    }
   ],
   "source": [
    "class A:\n",
    "    def method_a(self):\n",
    "        return \"Method A\"\n",
    "\n",
    "class B(A):\n",
    "    def method_b(self):\n",
    "        return \"Method B\"\n",
    "\n",
    "class C(B):\n",
    "    def method_c(self):\n",
    "        return \"Method C\"\n",
    "\n",
    "obj = C()\n",
    "print(obj.method_c())  # Output: Method C\n",
    "print(obj.method_b())  # Output: Method B\n",
    "print(obj.method_a())  # Output: Method A\n"
   ]
  },
  {
   "cell_type": "markdown",
   "id": "12d3d097-c3c2-41a2-b720-ca82093a7057",
   "metadata": {},
   "source": [
    "hierarchial inheritance:"
   ]
  },
  {
   "cell_type": "code",
   "execution_count": 6,
   "id": "6ca139ea-054a-448a-91a0-713f700b82ca",
   "metadata": {},
   "outputs": [
    {
     "name": "stdout",
     "output_type": "stream",
     "text": [
      "78.5\n",
      "16\n"
     ]
    }
   ],
   "source": [
    "class Shape:\n",
    "    def area(self):\n",
    "        pass\n",
    "\n",
    "class Circle(Shape):\n",
    "    def area(self, radius):\n",
    "        return 3.14 * radius * radius\n",
    "\n",
    "class Square(Shape):\n",
    "    def area(self, side):\n",
    "        return side * side\n",
    "\n",
    "circle = Circle()\n",
    "square = Square()\n",
    "print(circle.area(5))  # Output: 78.5\n",
    "print(square.area(4))  # Output: 16\n"
   ]
  },
  {
   "cell_type": "code",
   "execution_count": null,
   "id": "18a55623-9eec-4ba9-88f5-f88410db722e",
   "metadata": {},
   "outputs": [],
   "source": []
  }
 ],
 "metadata": {
  "kernelspec": {
   "display_name": "Python 3 (ipykernel)",
   "language": "python",
   "name": "python3"
  },
  "language_info": {
   "codemirror_mode": {
    "name": "ipython",
    "version": 3
   },
   "file_extension": ".py",
   "mimetype": "text/x-python",
   "name": "python",
   "nbconvert_exporter": "python",
   "pygments_lexer": "ipython3",
   "version": "3.10.6"
  }
 },
 "nbformat": 4,
 "nbformat_minor": 5
}
