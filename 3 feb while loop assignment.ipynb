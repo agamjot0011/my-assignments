{
 "cells": [
  {
   "cell_type": "markdown",
   "id": "71ea1e40-6147-4674-b55a-45509cfecc55",
   "metadata": {},
   "source": [
    "Ques 1. Which keyword is used to create a function? Create a function to return a list of odd numbers in the\n",
    "range of 1 to 25."
   ]
  },
  {
   "cell_type": "markdown",
   "id": "d2b30434-8d96-4634-8ac2-44e1a4e3be1d",
   "metadata": {},
   "source": [
    "In Python, the keyword used to create a function is def"
   ]
  },
  {
   "cell_type": "markdown",
   "id": "d16507c9-f60f-411c-b3b2-eb6424664e27",
   "metadata": {},
   "source": [
    "Function to return a list of odd numbers in the range of 1 to 25"
   ]
  },
  {
   "cell_type": "code",
   "execution_count": 3,
   "id": "f2b76fbe-55bf-4de8-9016-65a1dd89973f",
   "metadata": {},
   "outputs": [
    {
     "name": "stdout",
     "output_type": "stream",
     "text": [
      "[1, 3, 5, 7, 9, 11, 13, 15, 17, 19, 21, 23, 25]\n"
     ]
    }
   ],
   "source": [
    "def oddnums():\n",
    "    oddlist=list()\n",
    "    for i in range(1,26):\n",
    "        if i%2 == 1:\n",
    "            oddlist.append(i)\n",
    "            \n",
    "    return oddlist\n",
    "    \n",
    "result = oddnums()\n",
    "print(result)"
   ]
  },
  {
   "cell_type": "markdown",
   "id": "58cd7049-4206-4227-bddc-68e703c5f45e",
   "metadata": {},
   "source": [
    "Ques 2. Why *args and **kwargs is used in some functions? Create a function each for *args and **kwargs\n",
    "to demonstrate their use."
   ]
  },
  {
   "cell_type": "markdown",
   "id": "4fb71cb3-c4cb-4b5e-afc0-c1cbeb9493d5",
   "metadata": {},
   "source": [
    "In Python, *args and **kwargs are used to pass a variable number of arguments to a function.\n",
    "\n",
    "*args: This is used to pass a variable number of non-keyword arguments to a function. It collects any additional positional arguments into a tuple.\n",
    "\n",
    "**kwargs: This is used to pass a variable number of keyword arguments (i.e., named arguments) to a function. It collects any additional keyword arguments into a dictionary."
   ]
  },
  {
   "cell_type": "markdown",
   "id": "a0878010-39bc-4441-b305-5fee978cfd87",
   "metadata": {},
   "source": [
    "Example of function args :"
   ]
  },
  {
   "cell_type": "code",
   "execution_count": 5,
   "id": "4aada702-06e7-40ab-939a-2382fa0c8b33",
   "metadata": {},
   "outputs": [
    {
     "name": "stdout",
     "output_type": "stream",
     "text": [
      "Sum: 50\n"
     ]
    }
   ],
   "source": [
    "def sum_all_numbers(arg1, *args):\n",
    "    total = arg1\n",
    "    for num in args:\n",
    "        total += num\n",
    "    return total\n",
    "\n",
    "result = sum_all_numbers(5, 10, 15, 20)\n",
    "print(\"Sum:\", result)\n"
   ]
  },
  {
   "cell_type": "markdown",
   "id": "3b5fe591-f06f-43d6-965f-99ded5138066",
   "metadata": {},
   "source": [
    "Example of function kwargs:"
   ]
  },
  {
   "cell_type": "code",
   "execution_count": 8,
   "id": "614d3d5d-ce36-4369-9f03-d078cf446dac",
   "metadata": {},
   "outputs": [
    {
     "name": "stdout",
     "output_type": "stream",
     "text": [
      "Name: John Doe\n",
      "Age: 30\n",
      "Occupation: Engineer\n",
      "City: New York\n"
     ]
    }
   ],
   "source": [
    "def print_person_info(name, **kwargs):\n",
    "    print(\"Name:\", name)\n",
    "    for key, value in kwargs.items():\n",
    "        print(key.capitalize() + \":\", value)\n",
    "\n",
    "print_person_info(\"John Doe\", age=30, occupation=\"Engineer\", city=\"New York\")\n"
   ]
  },
  {
   "cell_type": "markdown",
   "id": "5029f4db-22ad-40e6-aaa5-68592f215320",
   "metadata": {},
   "source": [
    "Ques 3. What is an iterator in python? Name the method used to initialise the iterator object and the method\n",
    "used for iteration. Use these methods to print the first five elements of the given list [2, 4, 6, 8, 10, 12, 14,\n",
    "16, 18, 20]."
   ]
  },
  {
   "cell_type": "markdown",
   "id": "ad270c97-f3e6-49e6-9e5f-619ecb609d32",
   "metadata": {},
   "source": [
    "An iterator in Python is an object that implements two methods, __iter__() and __next__(), allowing you to iterate over a sequence of items, such as a list, one item at a time.\n",
    "\n",
    "__iter__(): This method initializes the iterator object and returns itself (self) as the iterator.\n",
    "\n",
    "__next__(): This method retrieves the next item from the iterator. If there are no more items, it raises the StopIteration exception."
   ]
  },
  {
   "cell_type": "markdown",
   "id": "fada61f4-8dc2-4194-9298-ed69d20c3db9",
   "metadata": {},
   "source": [
    "Printing the first five elements of the list  [2, 4, 6, 8, 10, 12, 14, 16, 18, 20] using iterators:"
   ]
  },
  {
   "cell_type": "code",
   "execution_count": 10,
   "id": "867086ff-28b9-45f5-98bb-a7d766b82698",
   "metadata": {},
   "outputs": [
    {
     "name": "stdout",
     "output_type": "stream",
     "text": [
      "2\n",
      "4\n",
      "6\n",
      "8\n",
      "10\n"
     ]
    }
   ],
   "source": [
    "class SimpleListIterator:\n",
    "    def __init__(self, data):\n",
    "        self.data = data\n",
    "        self.index = 0\n",
    "\n",
    "    def __next__(self):\n",
    "        if self.index < len(self.data):\n",
    "            item = self.data[self.index]\n",
    "            self.index += 1\n",
    "            return item\n",
    "        else:\n",
    "            raise StopIteration\n",
    "\n",
    "# Given list\n",
    "my_list = [2, 4, 6, 8, 10, 12, 14, 16, 18, 20]\n",
    "\n",
    "# Create an iterator object\n",
    "iterator = SimpleListIterator(my_list)\n",
    "\n",
    "# Iterate and print the first five elements\n",
    "for i in range(5):\n",
    "    print(next(iterator))\n"
   ]
  },
  {
   "cell_type": "markdown",
   "id": "5d05b4c8-bb35-4206-a1a3-c8d97b1a905e",
   "metadata": {},
   "source": [
    "Ques 4. What is a generator function in python? Why yield keyword is used? Give an example of a generator\n",
    "function."
   ]
  },
  {
   "cell_type": "markdown",
   "id": "2c8107fc-3935-48d6-bca9-4ffb043b9a3d",
   "metadata": {},
   "source": [
    "A generator function in Python is a special type of function that allows you to create an iterator in a more concise and memory-efficient way. It uses the yield keyword to yield values one at a time, allowing you to iterate over a potentially large sequence of values without storing them all in memory at once."
   ]
  },
  {
   "cell_type": "markdown",
   "id": "49b6b31a-c0e0-4fca-8f7d-7dbddf34c8d2",
   "metadata": {},
   "source": [
    "Example of generator function:\n",
    "\n",
    " example of a generator function that generates a sequence of even numbers:"
   ]
  },
  {
   "cell_type": "code",
   "execution_count": 21,
   "id": "0c24f26d-c294-4321-86cf-67540b4d2159",
   "metadata": {},
   "outputs": [
    {
     "name": "stdin",
     "output_type": "stream",
     "text": [
      "enter the limit: 10\n"
     ]
    },
    {
     "name": "stdout",
     "output_type": "stream",
     "text": [
      "2\n",
      "4\n",
      "6\n",
      "8\n",
      "10\n"
     ]
    }
   ],
   "source": [
    "def evennums(limit):\n",
    "    num=2\n",
    "    while num<=limit:\n",
    "        yield num\n",
    "        num+=2\n",
    "\n",
    "a=int(input(\"enter the limit:\"))\n",
    "for numbers in evennums (a):\n",
    "            print(numbers)\n"
   ]
  },
  {
   "cell_type": "markdown",
   "id": "6c692939-7584-4046-82da-4c71a10a257d",
   "metadata": {},
   "source": [
    "Ques 5. Create a generator function for prime numbers less than 1000. Use the next() method to print the\n",
    "first 20 prime numbers."
   ]
  },
  {
   "cell_type": "code",
   "execution_count": 22,
   "id": "da78e4bb-8c4f-4cfc-be34-bcb647a82ce0",
   "metadata": {},
   "outputs": [
    {
     "name": "stdout",
     "output_type": "stream",
     "text": [
      "[2, 3, 5, 7, 11, 13, 17, 19, 23, 29, 31, 37, 41, 43, 47, 53, 59, 61, 67, 71, 73, 79, 83, 89, 97, 101, 103, 107, 109, 113, 127, 131, 137, 139, 149, 151, 157, 163, 167, 173, 179, 181, 191, 193, 197, 199, 211, 223, 227, 229, 233, 239, 241, 251, 257, 263, 269, 271, 277, 281, 283, 293, 307, 311, 313, 317, 331, 337, 347, 349, 353, 359, 367, 373, 379, 383, 389, 397, 401, 409, 419, 421, 431, 433, 439, 443, 449, 457, 461, 463, 467, 479, 487, 491, 499, 503, 509, 521, 523, 541, 547, 557, 563, 569, 571, 577, 587, 593, 599, 601, 607, 613, 617, 619, 631, 641, 643, 647, 653, 659, 661, 673, 677, 683, 691, 701, 709, 719, 727, 733, 739, 743, 751, 757, 761, 769, 773, 787, 797, 809, 811, 821, 823, 827, 829, 839, 853, 857, 859, 863, 877, 881, 883, 887, 907, 911, 919, 929, 937, 941, 947, 953, 967, 971, 977, 983, 991, 997]\n"
     ]
    }
   ],
   "source": [
    "def generate_primes(limit):\n",
    "    primes = []\n",
    "    for num in range(2, limit):\n",
    "        is_prime = True\n",
    "        for divisor in range(2, int(num ** 0.5) + 1):\n",
    "            if num % divisor == 0:\n",
    "                is_prime = False\n",
    "                break\n",
    "        if is_prime:\n",
    "            primes.append(num)\n",
    "    return primes\n",
    "\n",
    "limit = 1000\n",
    "prime_numbers = generate_primes(limit)\n",
    "print(prime_numbers)\n"
   ]
  },
  {
   "cell_type": "markdown",
   "id": "450d1a2e-3c44-4f20-a6a7-1f38504e2a5a",
   "metadata": {},
   "source": [
    "Ques 6. Write a python program to print the first 10 Fibonacci numbers using a while loop."
   ]
  },
  {
   "cell_type": "code",
   "execution_count": 23,
   "id": "f6df7bdb-c502-4d8d-8166-12e56da8ae28",
   "metadata": {},
   "outputs": [
    {
     "name": "stdout",
     "output_type": "stream",
     "text": [
      "0\n",
      "1\n",
      "1\n",
      "2\n",
      "3\n",
      "5\n",
      "8\n",
      "13\n",
      "21\n",
      "34\n"
     ]
    }
   ],
   "source": [
    "def fibonacci(n):\n",
    "    fib_sequence = [0, 1]\n",
    "    while len(fib_sequence) < n:\n",
    "        next_fib = fib_sequence[-1] + fib_sequence[-2]\n",
    "        fib_sequence.append(next_fib)\n",
    "    return fib_sequence\n",
    "\n",
    "first_10_fibonacci = fibonacci(10)\n",
    "for num in first_10_fibonacci:\n",
    "    print(num)\n"
   ]
  },
  {
   "cell_type": "markdown",
   "id": "501eae3d-d54a-4cad-9336-dfd0d0cb9933",
   "metadata": {},
   "source": [
    "Ques 7. Write a List Comprehension to iterate through the given string: ‘pwskills’.\n",
    "Expected output: ['p', 'w', 's', 'k', 'i', 'l', 'l', 's']"
   ]
  },
  {
   "cell_type": "code",
   "execution_count": 26,
   "id": "55a1b9e7-765c-4bee-bfc3-d72bc8defc47",
   "metadata": {},
   "outputs": [
    {
     "name": "stdout",
     "output_type": "stream",
     "text": [
      "['p', 'w', 's', 'k', 'i', 'l', 'l', 's']\n"
     ]
    }
   ],
   "source": [
    "input_string = 'pwskills'\n",
    "output_list = []\n",
    "\n",
    "for char in input_string:\n",
    "        output_list.append(char)\n",
    "\n",
    "print(output_list)\n"
   ]
  },
  {
   "cell_type": "markdown",
   "id": "81287b6e-9878-4df5-bc35-c3885346849f",
   "metadata": {},
   "source": [
    "Ques 8.Write a python program to check whether a given number is Palindrome or not using a while loop."
   ]
  },
  {
   "cell_type": "code",
   "execution_count": 2,
   "id": "e701f4f2-b749-4bd5-bfb5-f40ab91547da",
   "metadata": {},
   "outputs": [
    {
     "name": "stdin",
     "output_type": "stream",
     "text": [
      "Enter a number:  10\n"
     ]
    },
    {
     "name": "stdout",
     "output_type": "stream",
     "text": [
      "10 is not a palindrome.\n"
     ]
    }
   ],
   "source": [
    "def is_palindrome(number):\n",
    "    original_number = number\n",
    "    reversed_number = 0\n",
    "\n",
    "    while number > 0:\n",
    "        digit = number % 10\n",
    "        reversed_number = reversed_number * 10 + digit\n",
    "        number //= 10\n",
    "\n",
    "    return original_number == reversed_number\n",
    "\n",
    "# Input from the user\n",
    "num = int(input(\"Enter a number: \"))\n",
    "\n",
    "if is_palindrome(num):\n",
    "    print(num, \"is a palindrome.\")\n",
    "else:\n",
    "    print(num, \"is not a palindrome.\")\n"
   ]
  },
  {
   "cell_type": "markdown",
   "id": "ba1016eb-50da-47b5-90cf-3f1ea2362a8c",
   "metadata": {},
   "source": [
    "Ques 9. Write a code to print odd numbers from 1 to 100 using list comprehension."
   ]
  },
  {
   "cell_type": "code",
   "execution_count": 5,
   "id": "dc2b3984-9506-4278-a2d9-000baf87e691",
   "metadata": {},
   "outputs": [
    {
     "name": "stdout",
     "output_type": "stream",
     "text": [
      "[1, 3, 5, 7, 9, 11, 13, 15, 17, 19, 21, 23, 25, 27, 29, 31, 33, 35, 37, 39, 41, 43, 45, 47, 49, 51, 53, 55, 57, 59, 61, 63, 65, 67, 69, 71, 73, 75, 77, 79, 81, 83, 85, 87, 89, 91, 93, 95, 97, 99]\n"
     ]
    }
   ],
   "source": [
    "odd_numbers = [num for num in range(1, 101) if num % 2 ==1]\n",
    "print(odd_numbers)\n"
   ]
  }
 ],
 "metadata": {
  "kernelspec": {
   "display_name": "Python 3 (ipykernel)",
   "language": "python",
   "name": "python3"
  },
  "language_info": {
   "codemirror_mode": {
    "name": "ipython",
    "version": 3
   },
   "file_extension": ".py",
   "mimetype": "text/x-python",
   "name": "python",
   "nbconvert_exporter": "python",
   "pygments_lexer": "ipython3",
   "version": "3.10.6"
  }
 },
 "nbformat": 4,
 "nbformat_minor": 5
}
